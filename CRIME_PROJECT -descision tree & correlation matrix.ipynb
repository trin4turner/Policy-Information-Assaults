{
 "cells": [
  {
   "cell_type": "markdown",
   "metadata": {},
   "source": [
    "# Crime project"
   ]
  },
  {
   "cell_type": "code",
   "execution_count": 139,
   "metadata": {
    "colab": {
     "base_uri": "https://localhost:8080/"
    },
    "id": "dOi2ou1Anj71",
    "outputId": "e047af24-f182-4d4d-ddb5-36c3b8233151"
   },
   "outputs": [],
   "source": [
    "#from google.colab import drive\n",
    "#drive.mount('/content/drive/')\n",
    "#%cd /content/drive/My Drive/CRIME PROJECT/CODE/\n",
    "import pandas as pd\n",
    "import matplotlib.pyplot as plt\n",
    "import numpy as np\n",
    "import seaborn as sns\n",
    "\n",
    "\n"
   ]
  },
  {
   "cell_type": "markdown",
   "metadata": {
    "id": "-LYWS651CScx"
   },
   "source": [
    "## Data inspection"
   ]
  },
  {
   "cell_type": "code",
   "execution_count": 185,
   "metadata": {
    "colab": {
     "base_uri": "https://localhost:8080/",
     "height": 256
    },
    "id": "_g-NRxwKofCY",
    "outputId": "07f8ecd4-d7b6-4f50-ab3d-e877cf7199ce"
   },
   "outputs": [
    {
     "data": {
      "text/html": [
       "<div>\n",
       "<style scoped>\n",
       "    .dataframe tbody tr th:only-of-type {\n",
       "        vertical-align: middle;\n",
       "    }\n",
       "\n",
       "    .dataframe tbody tr th {\n",
       "        vertical-align: top;\n",
       "    }\n",
       "\n",
       "    .dataframe thead th {\n",
       "        text-align: right;\n",
       "    }\n",
       "</style>\n",
       "<table border=\"1\" class=\"dataframe\">\n",
       "  <thead>\n",
       "    <tr style=\"text-align: right;\">\n",
       "      <th></th>\n",
       "      <th>Êcommunityname</th>\n",
       "      <th>state</th>\n",
       "      <th>countyCode</th>\n",
       "      <th>communityCode</th>\n",
       "      <th>fold</th>\n",
       "      <th>population</th>\n",
       "      <th>householdsize</th>\n",
       "      <th>racepctblack</th>\n",
       "      <th>racePctWhite</th>\n",
       "      <th>racePctAsian</th>\n",
       "      <th>...</th>\n",
       "      <th>burglaries</th>\n",
       "      <th>burglPerPop</th>\n",
       "      <th>larcenies</th>\n",
       "      <th>larcPerPop</th>\n",
       "      <th>autoTheft</th>\n",
       "      <th>autoTheftPerPop</th>\n",
       "      <th>arsons</th>\n",
       "      <th>arsonsPerPop</th>\n",
       "      <th>ViolentCrimesPerPop</th>\n",
       "      <th>nonViolPerPop</th>\n",
       "    </tr>\n",
       "  </thead>\n",
       "  <tbody>\n",
       "    <tr>\n",
       "      <th>0</th>\n",
       "      <td>BerkeleyHeightstownship</td>\n",
       "      <td>NJ</td>\n",
       "      <td>39</td>\n",
       "      <td>5320</td>\n",
       "      <td>1</td>\n",
       "      <td>11980</td>\n",
       "      <td>3.10</td>\n",
       "      <td>1.37</td>\n",
       "      <td>91.78</td>\n",
       "      <td>6.50</td>\n",
       "      <td>...</td>\n",
       "      <td>14</td>\n",
       "      <td>114.85</td>\n",
       "      <td>138</td>\n",
       "      <td>1132.08</td>\n",
       "      <td>16</td>\n",
       "      <td>131.26</td>\n",
       "      <td>2</td>\n",
       "      <td>16.41</td>\n",
       "      <td>41.02</td>\n",
       "      <td>1394.59</td>\n",
       "    </tr>\n",
       "    <tr>\n",
       "      <th>1</th>\n",
       "      <td>Marpletownship</td>\n",
       "      <td>PA</td>\n",
       "      <td>45</td>\n",
       "      <td>47616</td>\n",
       "      <td>1</td>\n",
       "      <td>23123</td>\n",
       "      <td>2.82</td>\n",
       "      <td>0.80</td>\n",
       "      <td>95.57</td>\n",
       "      <td>3.44</td>\n",
       "      <td>...</td>\n",
       "      <td>57</td>\n",
       "      <td>242.37</td>\n",
       "      <td>376</td>\n",
       "      <td>1598.78</td>\n",
       "      <td>26</td>\n",
       "      <td>110.55</td>\n",
       "      <td>1</td>\n",
       "      <td>4.25</td>\n",
       "      <td>127.56</td>\n",
       "      <td>1955.95</td>\n",
       "    </tr>\n",
       "    <tr>\n",
       "      <th>2</th>\n",
       "      <td>Tigardcity</td>\n",
       "      <td>OR</td>\n",
       "      <td>?</td>\n",
       "      <td>?</td>\n",
       "      <td>1</td>\n",
       "      <td>29344</td>\n",
       "      <td>2.43</td>\n",
       "      <td>0.74</td>\n",
       "      <td>94.33</td>\n",
       "      <td>3.43</td>\n",
       "      <td>...</td>\n",
       "      <td>274</td>\n",
       "      <td>758.14</td>\n",
       "      <td>1797</td>\n",
       "      <td>4972.19</td>\n",
       "      <td>136</td>\n",
       "      <td>376.3</td>\n",
       "      <td>22</td>\n",
       "      <td>60.87</td>\n",
       "      <td>218.59</td>\n",
       "      <td>6167.51</td>\n",
       "    </tr>\n",
       "    <tr>\n",
       "      <th>3</th>\n",
       "      <td>Gloversvillecity</td>\n",
       "      <td>NY</td>\n",
       "      <td>35</td>\n",
       "      <td>29443</td>\n",
       "      <td>1</td>\n",
       "      <td>16656</td>\n",
       "      <td>2.40</td>\n",
       "      <td>1.70</td>\n",
       "      <td>97.35</td>\n",
       "      <td>0.50</td>\n",
       "      <td>...</td>\n",
       "      <td>225</td>\n",
       "      <td>1301.78</td>\n",
       "      <td>716</td>\n",
       "      <td>4142.56</td>\n",
       "      <td>47</td>\n",
       "      <td>271.93</td>\n",
       "      <td>?</td>\n",
       "      <td>?</td>\n",
       "      <td>306.64</td>\n",
       "      <td>?</td>\n",
       "    </tr>\n",
       "    <tr>\n",
       "      <th>4</th>\n",
       "      <td>Bemidjicity</td>\n",
       "      <td>MN</td>\n",
       "      <td>7</td>\n",
       "      <td>5068</td>\n",
       "      <td>1</td>\n",
       "      <td>11245</td>\n",
       "      <td>2.76</td>\n",
       "      <td>0.53</td>\n",
       "      <td>89.16</td>\n",
       "      <td>1.17</td>\n",
       "      <td>...</td>\n",
       "      <td>91</td>\n",
       "      <td>728.93</td>\n",
       "      <td>1060</td>\n",
       "      <td>8490.87</td>\n",
       "      <td>91</td>\n",
       "      <td>728.93</td>\n",
       "      <td>5</td>\n",
       "      <td>40.05</td>\n",
       "      <td>?</td>\n",
       "      <td>9988.79</td>\n",
       "    </tr>\n",
       "  </tbody>\n",
       "</table>\n",
       "<p>5 rows × 147 columns</p>\n",
       "</div>"
      ],
      "text/plain": [
       "            Êcommunityname state countyCode communityCode  fold  population  \\\n",
       "0  BerkeleyHeightstownship    NJ         39          5320     1       11980   \n",
       "1           Marpletownship    PA         45         47616     1       23123   \n",
       "2               Tigardcity    OR          ?             ?     1       29344   \n",
       "3         Gloversvillecity    NY         35         29443     1       16656   \n",
       "4              Bemidjicity    MN          7          5068     1       11245   \n",
       "\n",
       "   householdsize  racepctblack  racePctWhite  racePctAsian  ...  burglaries  \\\n",
       "0           3.10          1.37         91.78          6.50  ...          14   \n",
       "1           2.82          0.80         95.57          3.44  ...          57   \n",
       "2           2.43          0.74         94.33          3.43  ...         274   \n",
       "3           2.40          1.70         97.35          0.50  ...         225   \n",
       "4           2.76          0.53         89.16          1.17  ...          91   \n",
       "\n",
       "   burglPerPop  larcenies  larcPerPop  autoTheft  autoTheftPerPop  arsons  \\\n",
       "0       114.85        138     1132.08         16           131.26       2   \n",
       "1       242.37        376     1598.78         26           110.55       1   \n",
       "2       758.14       1797     4972.19        136            376.3      22   \n",
       "3      1301.78        716     4142.56         47           271.93       ?   \n",
       "4       728.93       1060     8490.87         91           728.93       5   \n",
       "\n",
       "   arsonsPerPop  ViolentCrimesPerPop  nonViolPerPop  \n",
       "0         16.41                41.02        1394.59  \n",
       "1          4.25               127.56        1955.95  \n",
       "2         60.87               218.59        6167.51  \n",
       "3             ?               306.64              ?  \n",
       "4         40.05                    ?        9988.79  \n",
       "\n",
       "[5 rows x 147 columns]"
      ]
     },
     "execution_count": 185,
     "metadata": {},
     "output_type": "execute_result"
    }
   ],
   "source": [
    "df = pd.read_csv('crimedata2 (1).csv', encoding = 'latin-1')\n",
    "df.head()\n",
    "\n",
    "\n"
   ]
  },
  {
   "cell_type": "code",
   "execution_count": 184,
   "metadata": {},
   "outputs": [
    {
     "name": "stdout",
     "output_type": "stream",
     "text": [
      "assaultPerPop                  ?\n",
      "state                         WY\n",
      "Êcommunityname    Zanesvillecity\n",
      "dtype: object\n",
      "0\n"
     ]
    }
   ],
   "source": [
    "print(df[['assaultPerPop','state','Êcommunityname']].max())\n",
    "\n",
    "print(df['assaultPerPop'].min())"
   ]
  },
  {
   "cell_type": "code",
   "execution_count": 141,
   "metadata": {},
   "outputs": [
    {
     "name": "stdout",
     "output_type": "stream",
     "text": [
      "2215\n",
      "assaultPerPop\n",
      "0         18\n",
      "?         13\n",
      "143.5      2\n",
      "9.48       2\n",
      "83.46      2\n",
      "          ..\n",
      "154.42     1\n",
      "33.09      1\n",
      "477.55     1\n",
      "90.6       1\n",
      "102.05     1\n",
      "Name: count, Length: 2150, dtype: int64\n"
     ]
    }
   ],
   "source": [
    "#find sixa and frequency\n",
    "print(df['assaultPerPop'].count())\n",
    "\n",
    "print(df['assaultPerPop'].value_counts(dropna=True))"
   ]
  },
  {
   "cell_type": "code",
   "execution_count": null,
   "metadata": {},
   "outputs": [
    {
     "name": "stdout",
     "output_type": "stream",
     "text": [
      "assaultPerPop\n",
      "0         18\n",
      "?         13\n",
      "143.5      2\n",
      "9.48       2\n",
      "83.46      2\n",
      "          ..\n",
      "154.42     1\n",
      "33.09      1\n",
      "477.55     1\n",
      "90.6       1\n",
      "102.05     1\n",
      "Name: count, Length: 2150, dtype: int64\n"
     ]
    }
   ],
   "source": [
    "\n",
    "print(df['assaultPerPop'].value_counts(dropna=True))\n",
    "\n"
   ]
  },
  {
   "cell_type": "markdown",
   "metadata": {
    "id": "X8Xh1ANkLxGw"
   },
   "source": [
    "Count null values"
   ]
  },
  {
   "cell_type": "code",
   "execution_count": null,
   "metadata": {},
   "outputs": [],
   "source": [
    "\n"
   ]
  },
  {
   "cell_type": "markdown",
   "metadata": {},
   "source": [
    "## Data Preperation"
   ]
  },
  {
   "cell_type": "markdown",
   "metadata": {},
   "source": [
    "* Check for non numeric and remove"
   ]
  },
  {
   "cell_type": "code",
   "execution_count": 143,
   "metadata": {},
   "outputs": [
    {
     "name": "stdout",
     "output_type": "stream",
     "text": [
      "Empty DataFrame\n",
      "Columns: [Êcommunityname, state, countyCode, communityCode, fold, population, householdsize, racepctblack, racePctWhite, racePctAsian, racePctHisp, agePct12t21, agePct12t29, agePct16t24, agePct65up, numbUrban, pctUrban, medIncome, pctWWage, pctWFarmSelf, pctWInvInc, pctWSocSec, pctWPubAsst, pctWRetire, medFamInc, perCapInc, whitePerCap, blackPerCap, indianPerCap, AsianPerCap, OtherPerCap, HispPerCap, NumUnderPov, PctPopUnderPov, PctLess9thGrade, PctNotHSGrad, PctBSorMore, PctUnemployed, PctEmploy, PctEmplManu, PctEmplProfServ, PctOccupManu, PctOccupMgmtProf, MalePctDivorce, MalePctNevMarr, FemalePctDiv, TotalPctDiv, PersPerFam, PctFam2Par, PctKids2Par, PctYoungKids2Par, PctTeen2Par, PctWorkMomYoungKids, PctWorkMom, NumKidsBornNeverMar, PctKidsBornNeverMar, NumImmig, PctImmigRecent, PctImmigRec5, PctImmigRec8, PctImmigRec10, PctRecentImmig, PctRecImmig5, PctRecImmig8, PctRecImmig10, PctSpeakEnglOnly, PctNotSpeakEnglWell, PctLargHouseFam, PctLargHouseOccup, PersPerOccupHous, PersPerOwnOccHous, PersPerRentOccHous, PctPersOwnOccup, PctPersDenseHous, PctHousLess3BR, MedNumBR, HousVacant, PctHousOccup, PctHousOwnOcc, PctVacantBoarded, PctVacMore6Mos, MedYrHousBuilt, PctHousNoPhone, PctWOFullPlumb, OwnOccLowQuart, OwnOccMedVal, OwnOccHiQuart, OwnOccQrange, RentLowQ, RentMedian, RentHighQ, RentQrange, MedRent, MedRentPctHousInc, MedOwnCostPctInc, MedOwnCostPctIncNoMtg, NumInShelters, NumStreet, PctForeignBorn, PctBornSameState, ...]\n",
      "Index: []\n",
      "\n",
      "[0 rows x 147 columns]\n"
     ]
    }
   ],
   "source": [
    "# Convert all columns to numeric, coercing non-numeric entries to NaN\n",
    "data_numeric = df.apply(pd.to_numeric, errors='coerce')\n",
    "\n",
    "# Replace '?' with NaN\n",
    "data_numeric.replace('?', pd.NA, inplace=True)\n",
    "\n",
    "# Identify any non-numeric values in assaultsperpop\n",
    "non_numeric = df[df['assaultPerPop'].apply(lambda x: isinstance(x, (int, float)))]\n",
    "print(non_numeric)\n",
    "\n",
    "\n"
   ]
  },
  {
   "cell_type": "markdown",
   "metadata": {},
   "source": [
    "* check for and remove duplicates"
   ]
  },
  {
   "cell_type": "code",
   "execution_count": 144,
   "metadata": {},
   "outputs": [
    {
     "name": "stdout",
     "output_type": "stream",
     "text": [
      "Number of duplicate rows: 0\n"
     ]
    }
   ],
   "source": [
    "# Check for duplicates\n",
    "duplicates = data_numeric.duplicated().sum()\n",
    "print(f\"Number of duplicate rows: {duplicates}\")\n",
    "\n",
    "# Remove duplicates\n",
    "data_numeric.drop_duplicates(inplace=True)\n",
    "\n"
   ]
  },
  {
   "cell_type": "code",
   "execution_count": 180,
   "metadata": {},
   "outputs": [
    {
     "name": "stdout",
     "output_type": "stream",
     "text": [
      "assaultPerPop     4929.5\n",
      "state                NaN\n",
      "Êcommunityname       NaN\n",
      "dtype: float64\n",
      "0.0\n"
     ]
    }
   ],
   "source": [
    "print(data_numeric[['assaultPerPop','state','Êcommunityname']].max()-3)\n",
    "\n",
    "print(data_numeric['assaultPerPop'].min())\n"
   ]
  },
  {
   "cell_type": "code",
   "execution_count": 175,
   "metadata": {},
   "outputs": [
    {
     "data": {
      "image/png": "[encoded data removed]",
      "text/plain": [
       "<Figure size 640x480 with 1 Axes>"
      ]
     },
     "metadata": {},
     "output_type": "display_data"
    }
   ],
   "source": [
    "data_numeric['assaultPerPop'].plot(kind='kde')\n",
    "\n",
    "\n",
    "plt.xlim(-4932,4932)\n",
    "plt.ylim(0, 0.002)  # Set y-axis range\n",
    "\n",
    "# Add labels and title\n",
    "plt.xlabel(\"Assaults Per Populus\")\n",
    "plt.ylabel(\"Density\")\n",
    "plt.title(\"Kernel Density Plot Of Assaults Per Pop\")\n",
    "\n",
    "plt.show()"
   ]
  },
  {
   "cell_type": "markdown",
   "metadata": {},
   "source": [
    "* identify nominal varialbes and convert remaining columnes to numeric"
   ]
  },
  {
   "cell_type": "code",
   "execution_count": 102,
   "metadata": {},
   "outputs": [
    {
     "name": "stdout",
     "output_type": "stream",
     "text": [
      "NaN values in column 'countyCode': 0\n",
      "NaN values in column 'communityCode': 0\n",
      "NaN values in column 'fold': 0\n",
      "NaN values in column 'population': 0\n",
      "NaN values in column 'householdsize': 0\n",
      "NaN values in column 'racepctblack': 0\n",
      "NaN values in column 'racePctWhite': 0\n",
      "NaN values in column 'racePctAsian': 0\n",
      "NaN values in column 'racePctHisp': 0\n",
      "NaN values in column 'agePct12t21': 0\n",
      "NaN values in column 'agePct12t29': 0\n",
      "NaN values in column 'agePct16t24': 0\n",
      "NaN values in column 'agePct65up': 0\n",
      "NaN values in column 'numbUrban': 0\n",
      "NaN values in column 'pctUrban': 0\n",
      "NaN values in column 'medIncome': 0\n",
      "NaN values in column 'pctWWage': 0\n",
      "NaN values in column 'pctWFarmSelf': 0\n",
      "NaN values in column 'pctWInvInc': 0\n",
      "NaN values in column 'pctWSocSec': 0\n",
      "NaN values in column 'pctWPubAsst': 0\n",
      "NaN values in column 'pctWRetire': 0\n",
      "NaN values in column 'medFamInc': 0\n",
      "NaN values in column 'perCapInc': 0\n",
      "NaN values in column 'whitePerCap': 0\n",
      "NaN values in column 'blackPerCap': 0\n",
      "NaN values in column 'indianPerCap': 0\n",
      "NaN values in column 'AsianPerCap': 0\n",
      "NaN values in column 'OtherPerCap': 0\n",
      "NaN values in column 'HispPerCap': 0\n",
      "NaN values in column 'NumUnderPov': 0\n",
      "NaN values in column 'PctPopUnderPov': 0\n",
      "NaN values in column 'PctLess9thGrade': 0\n",
      "NaN values in column 'PctNotHSGrad': 0\n",
      "NaN values in column 'PctBSorMore': 0\n",
      "NaN values in column 'PctUnemployed': 0\n",
      "NaN values in column 'PctEmploy': 0\n",
      "NaN values in column 'PctEmplManu': 0\n",
      "NaN values in column 'PctEmplProfServ': 0\n",
      "NaN values in column 'PctOccupManu': 0\n",
      "NaN values in column 'PctOccupMgmtProf': 0\n",
      "NaN values in column 'MalePctDivorce': 0\n",
      "NaN values in column 'MalePctNevMarr': 0\n",
      "NaN values in column 'FemalePctDiv': 0\n",
      "NaN values in column 'TotalPctDiv': 0\n",
      "NaN values in column 'PersPerFam': 0\n",
      "NaN values in column 'PctFam2Par': 0\n",
      "NaN values in column 'PctKids2Par': 0\n",
      "NaN values in column 'PctYoungKids2Par': 0\n",
      "NaN values in column 'PctTeen2Par': 0\n",
      "NaN values in column 'PctWorkMomYoungKids': 0\n",
      "NaN values in column 'PctWorkMom': 0\n",
      "NaN values in column 'NumKidsBornNeverMar': 0\n",
      "NaN values in column 'PctKidsBornNeverMar': 0\n",
      "NaN values in column 'NumImmig': 0\n",
      "NaN values in column 'PctImmigRecent': 0\n",
      "NaN values in column 'PctImmigRec5': 0\n",
      "NaN values in column 'PctImmigRec8': 0\n",
      "NaN values in column 'PctImmigRec10': 0\n",
      "NaN values in column 'PctRecentImmig': 0\n",
      "NaN values in column 'PctRecImmig5': 0\n",
      "NaN values in column 'PctRecImmig8': 0\n",
      "NaN values in column 'PctRecImmig10': 0\n",
      "NaN values in column 'PctSpeakEnglOnly': 0\n",
      "NaN values in column 'PctNotSpeakEnglWell': 0\n",
      "NaN values in column 'PctLargHouseFam': 0\n",
      "NaN values in column 'PctLargHouseOccup': 0\n",
      "NaN values in column 'PersPerOccupHous': 0\n",
      "NaN values in column 'PersPerOwnOccHous': 0\n",
      "NaN values in column 'PersPerRentOccHous': 0\n",
      "NaN values in column 'PctPersOwnOccup': 0\n",
      "NaN values in column 'PctPersDenseHous': 0\n",
      "NaN values in column 'PctHousLess3BR': 0\n",
      "NaN values in column 'MedNumBR': 0\n",
      "NaN values in column 'HousVacant': 0\n",
      "NaN values in column 'PctHousOccup': 0\n",
      "NaN values in column 'PctHousOwnOcc': 0\n",
      "NaN values in column 'PctVacantBoarded': 0\n",
      "NaN values in column 'PctVacMore6Mos': 0\n",
      "NaN values in column 'MedYrHousBuilt': 0\n",
      "NaN values in column 'PctHousNoPhone': 0\n",
      "NaN values in column 'PctWOFullPlumb': 0\n",
      "NaN values in column 'OwnOccLowQuart': 0\n",
      "NaN values in column 'OwnOccMedVal': 0\n",
      "NaN values in column 'OwnOccHiQuart': 0\n",
      "NaN values in column 'OwnOccQrange': 0\n",
      "NaN values in column 'RentLowQ': 0\n",
      "NaN values in column 'RentMedian': 0\n",
      "NaN values in column 'RentHighQ': 0\n",
      "NaN values in column 'RentQrange': 0\n",
      "NaN values in column 'MedRent': 0\n",
      "NaN values in column 'MedRentPctHousInc': 0\n",
      "NaN values in column 'MedOwnCostPctInc': 0\n",
      "NaN values in column 'MedOwnCostPctIncNoMtg': 0\n",
      "NaN values in column 'NumInShelters': 0\n",
      "NaN values in column 'NumStreet': 0\n",
      "NaN values in column 'PctForeignBorn': 0\n",
      "NaN values in column 'PctBornSameState': 0\n",
      "NaN values in column 'PctSameHouse85': 0\n",
      "NaN values in column 'PctSameCity85': 0\n",
      "NaN values in column 'PctSameState85': 0\n",
      "NaN values in column 'LemasSwornFT': 0\n",
      "NaN values in column 'LemasSwFTPerPop': 0\n",
      "NaN values in column 'LemasSwFTFieldOps': 0\n",
      "NaN values in column 'LemasSwFTFieldPerPop': 0\n",
      "NaN values in column 'LemasTotalReq': 0\n",
      "NaN values in column 'LemasTotReqPerPop': 0\n",
      "NaN values in column 'PolicReqPerOffic': 0\n",
      "NaN values in column 'PolicPerPop': 0\n",
      "NaN values in column 'RacialMatchCommPol': 0\n",
      "NaN values in column 'PctPolicWhite': 0\n",
      "NaN values in column 'PctPolicBlack': 0\n",
      "NaN values in column 'PctPolicHisp': 0\n",
      "NaN values in column 'PctPolicAsian': 0\n",
      "NaN values in column 'PctPolicMinor': 0\n",
      "NaN values in column 'OfficAssgnDrugUnits': 0\n",
      "NaN values in column 'NumKindsDrugsSeiz': 0\n",
      "NaN values in column 'PolicAveOTWorked': 0\n",
      "NaN values in column 'LandArea': 0\n",
      "NaN values in column 'PopDens': 0\n",
      "NaN values in column 'PctUsePubTrans': 0\n",
      "NaN values in column 'PolicCars': 0\n",
      "NaN values in column 'PolicOperBudg': 0\n",
      "NaN values in column 'LemasPctPolicOnPatr': 0\n",
      "NaN values in column 'LemasGangUnitDeploy': 0\n",
      "NaN values in column 'LemasPctOfficDrugUn': 0\n",
      "NaN values in column 'PolicBudgPerPop': 0\n",
      "NaN values in column 'murders': 0\n",
      "NaN values in column 'murdPerPop': 0\n",
      "NaN values in column 'rapes': 0\n",
      "NaN values in column 'rapesPerPop': 0\n",
      "NaN values in column 'robberies': 0\n",
      "NaN values in column 'robbbPerPop': 0\n",
      "NaN values in column 'assaults': 0\n",
      "NaN values in column 'assaultPerPop': 0\n",
      "NaN values in column 'burglaries': 0\n",
      "NaN values in column 'burglPerPop': 0\n",
      "NaN values in column 'larcenies': 0\n",
      "NaN values in column 'larcPerPop': 0\n",
      "NaN values in column 'autoTheft': 0\n",
      "NaN values in column 'autoTheftPerPop': 0\n",
      "NaN values in column 'arsons': 0\n",
      "NaN values in column 'arsonsPerPop': 0\n",
      "NaN values in column 'ViolentCrimesPerPop': 0\n",
      "NaN values in column 'nonViolPerPop': 0\n"
     ]
    }
   ],
   "source": [
    "# Identify nominal variables to exclude\n",
    "nominal_columns = ['Êcommunityname', 'state']\n",
    "\n",
    "# Keep only numeric columns for analysis\n",
    "data_numeric = data_numeric.drop(columns=nominal_columns)\n",
    "\n",
    "# Convert relevant columns to numeric, coercing errors to NaN\n",
    "# This step is not strictly necessary since we've already coerced everything to numeric\n",
    "# but it can be useful to ensure specific columns are converted correctly.\n",
    "numeric_columns = data_numeric.select_dtypes(include=[np.number]).columns.tolist()\n",
    "\n",
    "\n",
    "\n",
    "for col in numeric_columns:\n",
    "    data_numeric[col] = pd.to_numeric(data_numeric[col], errors='coerce')\n",
    "\n",
    "# Check for any remaining non-numeric values\n",
    "for column in numeric_columns:\n",
    "    non_numeric = df[column].isna().sum()\n",
    "    print(f\"NaN values in column '{column}': {non_numeric}\")\n",
    "\n",
    "# Handle missing values (using mean imputation for simplicity)\n",
    "data_numeric.fillna(data_numeric.mean(), inplace=True)"
   ]
  },
  {
   "cell_type": "markdown",
   "metadata": {},
   "source": [
    "* check for and remove outliers"
   ]
  },
  {
   "cell_type": "code",
   "execution_count": 103,
   "metadata": {},
   "outputs": [
    {
     "name": "stdout",
     "output_type": "stream",
     "text": [
      "Outliers in column 'countyCode': 176\n",
      "Outliers in column 'communityCode': 991\n",
      "Outliers in column 'fold': 0\n",
      "Outliers in column 'population': 219\n",
      "Outliers in column 'householdsize': 93\n",
      "Outliers in column 'racepctblack': 252\n",
      "Outliers in column 'racePctWhite': 88\n",
      "Outliers in column 'racePctAsian': 240\n",
      "Outliers in column 'racePctHisp': 268\n",
      "Outliers in column 'agePct12t21': 153\n",
      "Outliers in column 'agePct12t29': 151\n",
      "Outliers in column 'agePct16t24': 206\n",
      "Outliers in column 'agePct65up': 38\n",
      "Outliers in column 'numbUrban': 165\n",
      "Outliers in column 'pctUrban': 0\n",
      "Outliers in column 'medIncome': 43\n",
      "Outliers in column 'pctWWage': 25\n",
      "Outliers in column 'pctWFarmSelf': 117\n",
      "Outliers in column 'pctWInvInc': 2\n",
      "Outliers in column 'pctWSocSec': 19\n",
      "Outliers in column 'pctWPubAsst': 76\n",
      "Outliers in column 'pctWRetire': 34\n",
      "Outliers in column 'medFamInc': 63\n",
      "Outliers in column 'perCapInc': 111\n",
      "Outliers in column 'whitePerCap': 119\n",
      "Outliers in column 'blackPerCap': 72\n",
      "Outliers in column 'indianPerCap': 133\n",
      "Outliers in column 'AsianPerCap': 116\n",
      "Outliers in column 'OtherPerCap': 121\n",
      "Outliers in column 'HispPerCap': 85\n",
      "Outliers in column 'NumUnderPov': 235\n",
      "Outliers in column 'PctPopUnderPov': 37\n",
      "Outliers in column 'PctLess9thGrade': 92\n",
      "Outliers in column 'PctNotHSGrad': 27\n",
      "Outliers in column 'PctBSorMore': 97\n",
      "Outliers in column 'PctUnemployed': 65\n",
      "Outliers in column 'PctEmploy': 13\n",
      "Outliers in column 'PctEmplManu': 23\n",
      "Outliers in column 'PctEmplProfServ': 79\n",
      "Outliers in column 'PctOccupManu': 27\n",
      "Outliers in column 'PctOccupMgmtProf': 80\n",
      "Outliers in column 'MalePctDivorce': 8\n",
      "Outliers in column 'MalePctNevMarr': 122\n",
      "Outliers in column 'FemalePctDiv': 2\n",
      "Outliers in column 'TotalPctDiv': 1\n",
      "Outliers in column 'PersPerFam': 127\n",
      "Outliers in column 'PctFam2Par': 36\n",
      "Outliers in column 'PctKids2Par': 31\n",
      "Outliers in column 'PctYoungKids2Par': 36\n",
      "Outliers in column 'PctTeen2Par': 58\n",
      "Outliers in column 'PctWorkMomYoungKids': 17\n",
      "Outliers in column 'PctWorkMom': 34\n",
      "Outliers in column 'NumKidsBornNeverMar': 275\n",
      "Outliers in column 'PctKidsBornNeverMar': 177\n",
      "Outliers in column 'NumImmig': 276\n",
      "Outliers in column 'PctImmigRecent': 82\n",
      "Outliers in column 'PctImmigRec5': 51\n",
      "Outliers in column 'PctImmigRec8': 37\n",
      "Outliers in column 'PctImmigRec10': 6\n",
      "Outliers in column 'PctRecentImmig': 226\n",
      "Outliers in column 'PctRecImmig5': 225\n",
      "Outliers in column 'PctRecImmig8': 228\n",
      "Outliers in column 'PctRecImmig10': 222\n",
      "Outliers in column 'PctSpeakEnglOnly': 176\n",
      "Outliers in column 'PctNotSpeakEnglWell': 265\n",
      "Outliers in column 'PctLargHouseFam': 188\n",
      "Outliers in column 'PctLargHouseOccup': 180\n",
      "Outliers in column 'PersPerOccupHous': 72\n",
      "Outliers in column 'PersPerOwnOccHous': 68\n",
      "Outliers in column 'PersPerRentOccHous': 106\n",
      "Outliers in column 'PctPersOwnOccup': 11\n",
      "Outliers in column 'PctPersDenseHous': 178\n",
      "Outliers in column 'PctHousLess3BR': 67\n",
      "Outliers in column 'MedNumBR': 0\n",
      "Outliers in column 'HousVacant': 251\n",
      "Outliers in column 'PctHousOccup': 86\n",
      "Outliers in column 'PctHousOwnOcc': 17\n",
      "Outliers in column 'PctVacantBoarded': 165\n",
      "Outliers in column 'PctVacMore6Mos': 12\n",
      "Outliers in column 'MedYrHousBuilt': 0\n",
      "Outliers in column 'PctHousNoPhone': 34\n",
      "Outliers in column 'PctWOFullPlumb': 115\n",
      "Outliers in column 'OwnOccLowQuart': 71\n",
      "Outliers in column 'OwnOccMedVal': 89\n",
      "Outliers in column 'OwnOccHiQuart': 115\n",
      "Outliers in column 'OwnOccQrange': 179\n",
      "Outliers in column 'RentLowQ': 19\n",
      "Outliers in column 'RentMedian': 27\n",
      "Outliers in column 'RentHighQ': 0\n",
      "Outliers in column 'RentQrange': 96\n",
      "Outliers in column 'MedRent': 26\n",
      "Outliers in column 'MedRentPctHousInc': 62\n",
      "Outliers in column 'MedOwnCostPctInc': 4\n",
      "Outliers in column 'MedOwnCostPctIncNoMtg': 64\n",
      "Outliers in column 'NumInShelters': 361\n",
      "Outliers in column 'NumStreet': 417\n",
      "Outliers in column 'PctForeignBorn': 179\n",
      "Outliers in column 'PctBornSameState': 8\n",
      "Outliers in column 'PctSameHouse85': 22\n",
      "Outliers in column 'PctSameCity85': 73\n",
      "Outliers in column 'PctSameState85': 96\n",
      "Outliers in column 'LemasSwornFT': 343\n",
      "Outliers in column 'LemasSwFTPerPop': 343\n",
      "Outliers in column 'LemasSwFTFieldOps': 343\n",
      "Outliers in column 'LemasSwFTFieldPerPop': 343\n",
      "Outliers in column 'LemasTotalReq': 343\n",
      "Outliers in column 'LemasTotReqPerPop': 343\n",
      "Outliers in column 'PolicReqPerOffic': 343\n",
      "Outliers in column 'PolicPerPop': 343\n",
      "Outliers in column 'RacialMatchCommPol': 343\n",
      "Outliers in column 'PctPolicWhite': 343\n",
      "Outliers in column 'PctPolicBlack': 343\n",
      "Outliers in column 'PctPolicHisp': 343\n",
      "Outliers in column 'PctPolicAsian': 343\n",
      "Outliers in column 'PctPolicMinor': 343\n",
      "Outliers in column 'OfficAssgnDrugUnits': 343\n",
      "Outliers in column 'NumKindsDrugsSeiz': 343\n",
      "Outliers in column 'PolicAveOTWorked': 343\n",
      "Outliers in column 'LandArea': 157\n",
      "Outliers in column 'PopDens': 156\n",
      "Outliers in column 'PctUsePubTrans': 228\n",
      "Outliers in column 'PolicCars': 343\n",
      "Outliers in column 'PolicOperBudg': 343\n",
      "Outliers in column 'LemasPctPolicOnPatr': 343\n",
      "Outliers in column 'LemasGangUnitDeploy': 343\n",
      "Outliers in column 'LemasPctOfficDrugUn': 333\n",
      "Outliers in column 'PolicBudgPerPop': 343\n",
      "Outliers in column 'murders': 261\n",
      "Outliers in column 'murdPerPop': 137\n",
      "Outliers in column 'rapes': 147\n",
      "Outliers in column 'rapesPerPop': 94\n",
      "Outliers in column 'robberies': 316\n",
      "Outliers in column 'robbbPerPop': 223\n",
      "Outliers in column 'assaults': 265\n",
      "Outliers in column 'assaultPerPop': 143\n",
      "Outliers in column 'burglaries': 251\n",
      "Outliers in column 'burglPerPop': 89\n",
      "Outliers in column 'larcenies': 221\n",
      "Outliers in column 'larcPerPop': 54\n",
      "Outliers in column 'autoTheft': 268\n",
      "Outliers in column 'autoTheftPerPop': 176\n",
      "Outliers in column 'arsons': 218\n",
      "Outliers in column 'arsonsPerPop': 136\n",
      "Outliers in column 'ViolentCrimesPerPop': 164\n",
      "Outliers in column 'nonViolPerPop': 78\n"
     ]
    }
   ],
   "source": [
    "# Check for outliers\n",
    "for col in numeric_columns:\n",
    "    Q1 = data_numeric[col].quantile(0.25)\n",
    "    Q3 = data_numeric[col].quantile(0.75)\n",
    "    IQR = Q3 - Q1\n",
    "    lower_bound = Q1 - 1.5 * IQR\n",
    "    upper_bound = Q3 + 1.5 * IQR\n",
    "    outliers = data_numeric[(data_numeric[col] < lower_bound) | (data_numeric[col] > upper_bound)]\n",
    "    print(f\"Outliers in column '{col}': {len(outliers)}\")"
   ]
  },
  {
   "cell_type": "code",
   "execution_count": 104,
   "metadata": {},
   "outputs": [
    {
     "name": "stdout",
     "output_type": "stream",
     "text": [
      "Outliers in column 'countyCode': 27\n",
      "Outliers in column 'communityCode': 0\n",
      "Outliers in column 'fold': 0\n",
      "Outliers in column 'population': 15\n",
      "Outliers in column 'householdsize': 41\n",
      "Outliers in column 'racepctblack': 57\n",
      "Outliers in column 'racePctWhite': 37\n",
      "Outliers in column 'racePctAsian': 51\n",
      "Outliers in column 'racePctHisp': 66\n",
      "Outliers in column 'agePct12t21': 48\n",
      "Outliers in column 'agePct12t29': 51\n",
      "Outliers in column 'agePct16t24': 55\n",
      "Outliers in column 'agePct65up': 25\n",
      "Outliers in column 'numbUrban': 15\n",
      "Outliers in column 'pctUrban': 0\n",
      "Outliers in column 'medIncome': 28\n",
      "Outliers in column 'pctWWage': 14\n",
      "Outliers in column 'pctWFarmSelf': 44\n",
      "Outliers in column 'pctWInvInc': 1\n",
      "Outliers in column 'pctWSocSec': 10\n",
      "Outliers in column 'pctWPubAsst': 32\n",
      "Outliers in column 'pctWRetire': 19\n",
      "Outliers in column 'medFamInc': 28\n",
      "Outliers in column 'perCapInc': 38\n",
      "Outliers in column 'whitePerCap': 41\n",
      "Outliers in column 'blackPerCap': 23\n",
      "Outliers in column 'indianPerCap': 24\n",
      "Outliers in column 'AsianPerCap': 36\n",
      "Outliers in column 'OtherPerCap': 31\n",
      "Outliers in column 'HispPerCap': 37\n",
      "Outliers in column 'NumUnderPov': 16\n",
      "Outliers in column 'PctPopUnderPov': 25\n",
      "Outliers in column 'PctLess9thGrade': 44\n",
      "Outliers in column 'PctNotHSGrad': 18\n",
      "Outliers in column 'PctBSorMore': 28\n",
      "Outliers in column 'PctUnemployed': 35\n",
      "Outliers in column 'PctEmploy': 11\n",
      "Outliers in column 'PctEmplManu': 12\n",
      "Outliers in column 'PctEmplProfServ': 37\n",
      "Outliers in column 'PctOccupManu': 17\n",
      "Outliers in column 'PctOccupMgmtProf': 22\n",
      "Outliers in column 'MalePctDivorce': 4\n",
      "Outliers in column 'MalePctNevMarr': 48\n",
      "Outliers in column 'FemalePctDiv': 2\n",
      "Outliers in column 'TotalPctDiv': 1\n",
      "Outliers in column 'PersPerFam': 45\n",
      "Outliers in column 'PctFam2Par': 15\n",
      "Outliers in column 'PctKids2Par': 15\n",
      "Outliers in column 'PctYoungKids2Par': 19\n",
      "Outliers in column 'PctTeen2Par': 21\n",
      "Outliers in column 'PctWorkMomYoungKids': 5\n",
      "Outliers in column 'PctWorkMom': 14\n",
      "Outliers in column 'NumKidsBornNeverMar': 13\n",
      "Outliers in column 'PctKidsBornNeverMar': 47\n",
      "Outliers in column 'NumImmig': 8\n",
      "Outliers in column 'PctImmigRecent': 39\n",
      "Outliers in column 'PctImmigRec5': 24\n",
      "Outliers in column 'PctImmigRec8': 15\n",
      "Outliers in column 'PctImmigRec10': 3\n",
      "Outliers in column 'PctRecentImmig': 53\n",
      "Outliers in column 'PctRecImmig5': 50\n",
      "Outliers in column 'PctRecImmig8': 53\n",
      "Outliers in column 'PctRecImmig10': 52\n",
      "Outliers in column 'PctSpeakEnglOnly': 62\n",
      "Outliers in column 'PctNotSpeakEnglWell': 60\n",
      "Outliers in column 'PctLargHouseFam': 50\n",
      "Outliers in column 'PctLargHouseOccup': 53\n",
      "Outliers in column 'PersPerOccupHous': 36\n",
      "Outliers in column 'PersPerOwnOccHous': 35\n",
      "Outliers in column 'PersPerRentOccHous': 35\n",
      "Outliers in column 'PctPersOwnOccup': 7\n",
      "Outliers in column 'PctPersDenseHous': 54\n",
      "Outliers in column 'PctHousLess3BR': 4\n",
      "Outliers in column 'MedNumBR': 7\n",
      "Outliers in column 'HousVacant': 25\n",
      "Outliers in column 'PctHousOccup': 41\n",
      "Outliers in column 'PctHousOwnOcc': 1\n",
      "Outliers in column 'PctVacantBoarded': 42\n",
      "Outliers in column 'PctVacMore6Mos': 6\n",
      "Outliers in column 'MedYrHousBuilt': 0\n",
      "Outliers in column 'PctHousNoPhone': 21\n",
      "Outliers in column 'PctWOFullPlumb': 40\n",
      "Outliers in column 'OwnOccLowQuart': 38\n",
      "Outliers in column 'OwnOccMedVal': 43\n",
      "Outliers in column 'OwnOccHiQuart': 55\n",
      "Outliers in column 'OwnOccQrange': 51\n",
      "Outliers in column 'RentLowQ': 8\n",
      "Outliers in column 'RentMedian': 23\n",
      "Outliers in column 'RentHighQ': 0\n",
      "Outliers in column 'RentQrange': 36\n",
      "Outliers in column 'MedRent': 0\n",
      "Outliers in column 'MedRentPctHousInc': 3\n",
      "Outliers in column 'MedOwnCostPctInc': 3\n",
      "Outliers in column 'MedOwnCostPctIncNoMtg': 30\n",
      "Outliers in column 'NumInShelters': 12\n",
      "Outliers in column 'NumStreet': 9\n",
      "Outliers in column 'PctForeignBorn': 49\n",
      "Outliers in column 'PctBornSameState': 6\n",
      "Outliers in column 'PctSameHouse85': 7\n",
      "Outliers in column 'PctSameCity85': 36\n",
      "Outliers in column 'PctSameState85': 40\n",
      "Outliers in column 'LemasSwornFT': 9\n",
      "Outliers in column 'LemasSwFTPerPop': 13\n",
      "Outliers in column 'LemasSwFTFieldOps': 8\n",
      "Outliers in column 'LemasSwFTFieldPerPop': 8\n",
      "Outliers in column 'LemasTotalReq': 13\n",
      "Outliers in column 'LemasTotReqPerPop': 14\n",
      "Outliers in column 'PolicReqPerOffic': 47\n",
      "Outliers in column 'PolicPerPop': 13\n",
      "Outliers in column 'RacialMatchCommPol': 65\n",
      "Outliers in column 'PctPolicWhite': 35\n",
      "Outliers in column 'PctPolicBlack': 34\n",
      "Outliers in column 'PctPolicHisp': 18\n",
      "Outliers in column 'PctPolicAsian': 26\n",
      "Outliers in column 'PctPolicMinor': 31\n",
      "Outliers in column 'OfficAssgnDrugUnits': 6\n",
      "Outliers in column 'NumKindsDrugsSeiz': 81\n",
      "Outliers in column 'PolicAveOTWorked': 54\n",
      "Outliers in column 'LandArea': 10\n",
      "Outliers in column 'PopDens': 40\n",
      "Outliers in column 'PctUsePubTrans': 54\n",
      "Outliers in column 'PolicCars': 23\n",
      "Outliers in column 'PolicOperBudg': 11\n",
      "Outliers in column 'LemasPctPolicOnPatr': 31\n",
      "Outliers in column 'LemasGangUnitDeploy': 92\n",
      "Outliers in column 'LemasPctOfficDrugUn': 57\n",
      "Outliers in column 'PolicBudgPerPop': 12\n",
      "Outliers in column 'murders': 13\n",
      "Outliers in column 'murdPerPop': 45\n",
      "Outliers in column 'rapes': 32\n",
      "Outliers in column 'rapesPerPop': 32\n",
      "Outliers in column 'robberies': 10\n",
      "Outliers in column 'robbbPerPop': 53\n",
      "Outliers in column 'assaults': 14\n",
      "Outliers in column 'assaultPerPop': 41\n",
      "Outliers in column 'burglaries': 22\n",
      "Outliers in column 'burglPerPop': 29\n",
      "Outliers in column 'larcenies': 26\n",
      "Outliers in column 'larcPerPop': 20\n",
      "Outliers in column 'autoTheft': 18\n",
      "Outliers in column 'autoTheftPerPop': 52\n",
      "Outliers in column 'arsons': 15\n",
      "Outliers in column 'arsonsPerPop': 43\n",
      "Outliers in column 'ViolentCrimesPerPop': 46\n",
      "Outliers in column 'nonViolPerPop': 28\n"
     ]
    }
   ],
   "source": [
    "#Remove outliers using Z-score\n",
    "for col in numeric_columns:\n",
    "    z_scores = np.abs((data_numeric[col] - data_numeric[col].mean()) / data_numeric[col].std())\n",
    "    outliers = data_numeric[z_scores > 3]\n",
    "    print(f\"Outliers in column '{col}': {len(outliers)}\")"
   ]
  },
  {
   "cell_type": "markdown",
   "metadata": {},
   "source": [
    "*** **make sure values have been properley remvove and reassgin dataframe**"
   ]
  },
  {
   "cell_type": "code",
   "execution_count": 112,
   "metadata": {
    "colab": {
     "base_uri": "https://localhost:8080/"
    },
    "id": "30CJybIfLEPV",
    "outputId": "4cdab6cc-8ced-4652-a5e1-58c20263ba83"
   },
   "outputs": [
    {
     "name": "stdout",
     "output_type": "stream",
     "text": [
      "countyCode             0\n",
      "communityCode          0\n",
      "fold                   0\n",
      "population             0\n",
      "householdsize          0\n",
      "                      ..\n",
      "autoTheftPerPop        0\n",
      "arsons                 0\n",
      "arsonsPerPop           0\n",
      "ViolentCrimesPerPop    0\n",
      "nonViolPerPop          0\n",
      "Length: 145, dtype: int64\n"
     ]
    }
   ],
   "source": [
    "\n",
    "df.replace(\"?\", np.nan, inplace=True)\n",
    "\n",
    "df.dropna(inplace=True)\n",
    "\n",
    "\n",
    "null_counts = data_numeric.apply(lambda x : x.isna().sum())\n",
    "print(null_counts)\n",
    "\n",
    "newdf = data_numeric\n",
    "\n"
   ]
  },
  {
   "cell_type": "markdown",
   "metadata": {
    "id": "F_wl1EDqL1Vn"
   },
   "source": [
    "## Assigning variables \n"
   ]
  },
  {
   "cell_type": "code",
   "execution_count": 106,
   "metadata": {
    "colab": {
     "base_uri": "https://localhost:8080/",
     "height": 444
    },
    "id": "De20d5QRr80R",
    "outputId": "4a9b08f3-21c4-4075-8ba7-6bd5d7072925"
   },
   "outputs": [
    {
     "data": {
      "text/plain": [
       "PersPerFam          0\n",
       "PctFam2Par          0\n",
       "PctKids2Par         0\n",
       "PctYoungKids2Par    0\n",
       "PctTeen2Par         0\n",
       "PersPerOccupHous    0\n",
       "dtype: int64"
      ]
     },
     "execution_count": 106,
     "metadata": {},
     "output_type": "execute_result"
    }
   ],
   "source": [
    "#these variables contain data about variables that directly impact/represent familial relations\n",
    "family_df = df[['PersPerFam','PctFam2Par','PctKids2Par','PctYoungKids2Par','PctTeen2Par','PersPerOccupHous']]\n",
    "family_df\n",
    "\n",
    "family_df.isna().sum()"
   ]
  },
  {
   "cell_type": "code",
   "execution_count": 107,
   "metadata": {
    "colab": {
     "base_uri": "https://localhost:8080/",
     "height": 424
    },
    "id": "puciXwQu178V",
    "outputId": "0e7d7b2f-1338-4118-ac10-d60965e54003"
   },
   "outputs": [
    {
     "data": {
      "text/html": [
       "<div>\n",
       "<style scoped>\n",
       "    .dataframe tbody tr th:only-of-type {\n",
       "        vertical-align: middle;\n",
       "    }\n",
       "\n",
       "    .dataframe tbody tr th {\n",
       "        vertical-align: top;\n",
       "    }\n",
       "\n",
       "    .dataframe thead th {\n",
       "        text-align: right;\n",
       "    }\n",
       "</style>\n",
       "<table border=\"1\" class=\"dataframe\">\n",
       "  <thead>\n",
       "    <tr style=\"text-align: right;\">\n",
       "      <th></th>\n",
       "      <th>assaultPerPop</th>\n",
       "    </tr>\n",
       "  </thead>\n",
       "  <tbody>\n",
       "    <tr>\n",
       "      <th>54</th>\n",
       "      <td>368.86</td>\n",
       "    </tr>\n",
       "    <tr>\n",
       "      <th>55</th>\n",
       "      <td>445.86</td>\n",
       "    </tr>\n",
       "    <tr>\n",
       "      <th>58</th>\n",
       "      <td>522.63</td>\n",
       "    </tr>\n",
       "    <tr>\n",
       "      <th>99</th>\n",
       "      <td>964.85</td>\n",
       "    </tr>\n",
       "    <tr>\n",
       "      <th>122</th>\n",
       "      <td>1111.77</td>\n",
       "    </tr>\n",
       "    <tr>\n",
       "      <th>...</th>\n",
       "      <td>...</td>\n",
       "    </tr>\n",
       "    <tr>\n",
       "      <th>2086</th>\n",
       "      <td>93.92</td>\n",
       "    </tr>\n",
       "    <tr>\n",
       "      <th>2097</th>\n",
       "      <td>94.96</td>\n",
       "    </tr>\n",
       "    <tr>\n",
       "      <th>2116</th>\n",
       "      <td>106.54</td>\n",
       "    </tr>\n",
       "    <tr>\n",
       "      <th>2200</th>\n",
       "      <td>567.21</td>\n",
       "    </tr>\n",
       "    <tr>\n",
       "      <th>2207</th>\n",
       "      <td>151.38</td>\n",
       "    </tr>\n",
       "  </tbody>\n",
       "</table>\n",
       "<p>111 rows × 1 columns</p>\n",
       "</div>"
      ],
      "text/plain": [
       "     assaultPerPop\n",
       "54          368.86\n",
       "55          445.86\n",
       "58          522.63\n",
       "99          964.85\n",
       "122        1111.77\n",
       "...            ...\n",
       "2086         93.92\n",
       "2097         94.96\n",
       "2116        106.54\n",
       "2200        567.21\n",
       "2207        151.38\n",
       "\n",
       "[111 rows x 1 columns]"
      ]
     },
     "execution_count": 107,
     "metadata": {},
     "output_type": "execute_result"
    }
   ],
   "source": [
    "#next step is to identify possible correlations between violent crimes\n",
    "crimes_df = df[['assaultPerPop']]\n",
    "crimes_df\n"
   ]
  },
  {
   "cell_type": "code",
   "execution_count": null,
   "metadata": {
    "colab": {
     "base_uri": "https://localhost:8080/"
    },
    "id": "SzhUUgoAf4bs",
    "outputId": "a7ed3b10-9f52-4d28-945c-1b0cc7973955"
   },
   "outputs": [
    {
     "name": "stdout",
     "output_type": "stream",
     "text": [
      "assaultPerPop    0\n",
      "dtype: int64\n"
     ]
    }
   ],
   "source": [
    "null_counts = crimes_df.apply(lambda x : x.isna().sum())\n",
    "print(null_counts)\n",
    "\n"
   ]
  },
  {
   "cell_type": "markdown",
   "metadata": {
    "id": "zvjfzn5YCiA6"
   },
   "source": [
    "# Descision tree\n"
   ]
  },
  {
   "cell_type": "markdown",
   "metadata": {
    "id": "Ulbn9qkF7z_j"
   },
   "source": [
    "* Variable search"
   ]
  },
  {
   "cell_type": "code",
   "execution_count": 109,
   "metadata": {
    "id": "QsiscDJav_Hu"
   },
   "outputs": [],
   "source": [
    "from sklearn.tree import DecisionTreeClassifier, DecisionTreeRegressor\n",
    "\n",
    "from sklearn import tree\n",
    "from sklearn.model_selection import train_test_split\n",
    "import matplotlib.pyplot as plt\n",
    "from sklearn.metrics import mean_squared_error,r2_score\n",
    "from sklearn.impute import SimpleImputer\n",
    "from sklearn import tree\n",
    "import matplotlib.pyplot as plt\n",
    "import statsmodels.api as sm\n",
    "from sklearn.tree import export_graphviz\n",
    "import graphviz"
   ]
  },
  {
   "cell_type": "code",
   "execution_count": 110,
   "metadata": {
    "colab": {
     "base_uri": "https://localhost:8080/",
     "height": 216
    },
    "id": "ZxovMyjJ75_E",
    "outputId": "e709b1df-c6df-4c5f-e584-746996af8112"
   },
   "outputs": [],
   "source": [
    "X = family_df\n",
    "y = crimes_df\n",
    "\n",
    "for col in X.columns:\n",
    "  pd.to_numeric(X[col], errors='coerce')\n",
    "\n",
    "for col in y.columns:\n",
    "  pd.to_numeric(y[col], errors='coerce')"
   ]
  },
  {
   "cell_type": "code",
   "execution_count": null,
   "metadata": {},
   "outputs": [],
   "source": [
    "top_features = corrAssault[corrAssault > 0.5].index\n",
    "\n",
    "# Create a new correlation matrix with only the top features\n",
    "top_corr_matrix = data_cleaned[top_features].corr()\n",
    "\n",
    "# Print top correlations with AssaultPerPop\n",
    "print(top_corr_matrix['assaultPerPop'].sort_values(ascending=False))\n"
   ]
  },
  {
   "cell_type": "code",
   "execution_count": 113,
   "metadata": {
    "colab": {
     "base_uri": "https://localhost:8080/",
     "height": 436
    },
    "id": "vcwKSIXP-fwc",
    "outputId": "7818b7a6-1ff5-4d14-9b1d-254e0d5133f2"
   },
   "outputs": [
    {
     "name": "stdout",
     "output_type": "stream",
     "text": [
      "(88, 6)\n",
      "(23, 6)\n",
      "(88, 1)\n",
      "(23, 1)\n",
      "Mean Squared Error: 109595.66228260871\n",
      "R^2 Score: 0.007203264808796961\n"
     ]
    },
    {
     "data": {
      "image/png": "[encoded data removed]",
      "text/plain": [
       "<Figure size 1100x700 with 1 Axes>"
      ]
     },
     "metadata": {},
     "output_type": "display_data"
    }
   ],
   "source": [
    "regressor = DecisionTreeRegressor()\n",
    "\n",
    "#randomize and evenly split our data\n",
    "X_train, X_test, y_train, y_test = train_test_split(X, y, test_size=0.2, random_state=42)\n",
    "print(X_train.shape)\n",
    "print(X_test.shape)\n",
    "print(y_train.shape)\n",
    "print(y_test.shape)\n",
    "\n",
    "\n",
    "#train the data we've just split\n",
    "#X_train_imputed = imputer.fit_transform(X_train)\n",
    "#X_test_imputed = imputer.transform(X_test)\n",
    "\n",
    "#fit the model to trained data\n",
    "regressor.fit(X_train, y_train)\n",
    "\n",
    "\n",
    "#predict\n",
    "y_pred = regressor.predict(X_test)\n",
    "\n",
    "\n",
    "#model evaluation\n",
    "mse = mean_squared_error(y_test, y_pred)\n",
    "r2 = r2_score(y_test, y_pred)\n",
    "print('Mean Squared Error:', mse)\n",
    "print('R^2 Score:', r2)\n",
    "\n",
    "#coloring to maintain repot constostency\n",
    "\n",
    "#dot_data = export_graphviz(regressor, out_file= None, feature_names= X.columns,  filled=True, rounded=True,  special_characters=True)\n",
    "\n",
    "\n",
    "#graph = graphviz.Source(dot_data)\n",
    "\n",
    "#graph.format = 'png'  # Output format (e.g., png, pdf, svg, etc.)\n",
    "\n",
    "#graph.render('decision_tree')\n",
    "\n",
    "#plot the fig\n",
    "plt.figure(figsize=(11,7))\n",
    "tree.plot_tree(regressor,fontsize = 9, filled=True, feature_names= newdf.columns,max_depth=2, label=\"root\",rounded=True)\n",
    "plt.show()\n"
   ]
  },
  {
   "cell_type": "code",
   "execution_count": null,
   "metadata": {},
   "outputs": [],
   "source": []
  },
  {
   "cell_type": "markdown",
   "metadata": {},
   "source": [
    "## Correlation matrix"
   ]
  },
  {
   "cell_type": "code",
   "execution_count": null,
   "metadata": {},
   "outputs": [],
   "source": []
  }
 ],
 "metadata": {
  "colab": {
   "provenance": []
  },
  "kernelspec": {
   "display_name": "base",
   "language": "python",
   "name": "python3"
  },
  "language_info": {
   "codemirror_mode": {
    "name": "ipython",
    "version": 3
   },
   "file_extension": ".py",
   "mimetype": "text/x-python",
   "name": "python",
   "nbconvert_exporter": "python",
   "pygments_lexer": "ipython3",
   "version": "3.12.2"
  }
 },
 "nbformat": 4,
 "nbformat_minor": 0
}
